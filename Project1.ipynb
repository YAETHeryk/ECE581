{
 "cells": [
  {
   "cell_type": "markdown",
   "metadata": {},
   "source": [
    "# Computer Project1"
   ]
  },
  {
   "cell_type": "code",
   "execution_count": 1,
   "metadata": {},
   "outputs": [],
   "source": [
    "import numpy as np\n",
    "import pandas\n",
    "import matplotlib\n",
    "from matplotlib import pyplot as plt "
   ]
  },
  {
   "cell_type": "markdown",
   "metadata": {},
   "source": [
    "<font size=5 >**Problem1**</font>"
   ]
  },
  {
   "cell_type": "code",
   "execution_count": 62,
   "metadata": {},
   "outputs": [
    {
     "name": "stdout",
     "output_type": "stream",
     "text": [
      "PI is: 3.141593\n",
      "100 trials, PI is 2.857143, error is 0.090543\n",
      "1000 trials, PI is 3.316750, error is 0.055754\n",
      "10000 trials, PI is 3.140210, error is 0.000440\n",
      "100000 trials, PI is 3.139028, error is 0.000817\n"
     ]
    }
   ],
   "source": [
    "# Problem1\n",
    "trials=[100,1000,10000,100000]\n",
    "print(\"PI is: %f\"%(np.pi))\n",
    "for n in trials:\n",
    "    distance=np.random.uniform(0,1 / 2,n)\n",
    "    radian=np.random.uniform(0, np.pi / 2,n)\n",
    "    cross_num=np.sum(0.5 * np.sin(radian) > distance)\n",
    "    simulation = 2 / ( cross_num / n)\n",
    "    error = np.abs(simulation/np.pi - 1)\n",
    "    print(\"%d trials, PI is %f, error is %f\"%(n,simulation,error))"
   ]
  },
  {
   "cell_type": "markdown",
   "metadata": {},
   "source": [
    "<font size=5 >**Problem2**</font>"
   ]
  },
  {
   "cell_type": "code",
   "execution_count": 1,
   "metadata": {},
   "outputs": [],
   "source": [
    "#Problem2"
   ]
  },
  {
   "cell_type": "markdown",
   "metadata": {},
   "source": [
    "$ P(n) = \\frac{365！}{(365-n)!}\\times \\frac{1}{365^n} $"
   ]
  },
  {
   "cell_type": "code",
   "execution_count": 28,
   "metadata": {},
   "outputs": [
    {
     "data": {
      "image/png": "[encoded data removed]",
      "text/plain": [
       "<Figure size 432x288 with 1 Axes>"
      ]
     },
     "metadata": {
      "needs_background": "light"
     },
     "output_type": "display_data"
    }
   ],
   "source": [
    "#calculate\n",
    "def p(n):\n",
    "    return np.exp(np.log(np.arange(1,365+1)).sum() - np.log(np.arange(1,365-n+1)).sum() - n*np.log(365))\n",
    "calculation = np.empty(200)\n",
    "num = np.empty(200,dtype=int)\n",
    "for i in range(0,200):\n",
    "    calculation[i] = p(i)\n",
    "    num[i] = i\n",
    "plt.grid()\n",
    "plt.plot(num,calculation)\n",
    "plt.show()"
   ]
  },
  {
   "cell_type": "code",
   "execution_count": 61,
   "metadata": {},
   "outputs": [
    {
     "data": {
      "image/png": "[encoded data removed]",
      "text/plain": [
       "<Figure size 432x288 with 1 Axes>"
      ]
     },
     "metadata": {
      "needs_background": "light"
     },
     "output_type": "display_data"
    }
   ],
   "source": [
    "#simulate\n",
    "def simulate(n, trials):\n",
    "    count = 0\n",
    "    for i in range(trials):\n",
    "        birthdays = np.random.randint(0,365,size = n)\n",
    "        if len(np.unique(birthdays)) == len(birthdays):\n",
    "            count += 1\n",
    "    return count/trials\n",
    "simulation = np.empty(200)\n",
    "trials = 100\n",
    "for i in range(0,200):\n",
    "    simulation[i] = simulate(i,trials)\n",
    "plt.scatter(num,simulation,marker='o',c='y',s=5)\n",
    "plt.plot(num,calculation)\n",
    "plt.grid()\n",
    "plt.show()"
   ]
  },
  {
   "cell_type": "markdown",
   "metadata": {},
   "source": [
    "<font size=5 >**Problem3**</font>"
   ]
  },
  {
   "cell_type": "code",
   "execution_count": 33,
   "metadata": {},
   "outputs": [],
   "source": [
    "#Problem3\n",
    "from scipy.special import comb"
   ]
  },
  {
   "cell_type": "markdown",
   "metadata": {},
   "source": [
    "$p=\\frac{\\tbinom{4}{3}\\times \\tbinom{48}{4}}{\\tbinom{52}{7}}$"
   ]
  },
  {
   "cell_type": "code",
   "execution_count": 42,
   "metadata": {},
   "outputs": [
    {
     "data": {
      "text/plain": [
       "0.005817711700064641"
      ]
     },
     "execution_count": 42,
     "metadata": {},
     "output_type": "execute_result"
    }
   ],
   "source": [
    "#calculate\n",
    "p = comb(4,3)*comb(48,4)/comb(52,7)\n",
    "p"
   ]
  },
  {
   "cell_type": "code",
   "execution_count": 69,
   "metadata": {},
   "outputs": [
    {
     "name": "stdout",
     "output_type": "stream",
     "text": [
      "10000 trials, simulation is 0.005400\n",
      "calulation is 0.005818\n"
     ]
    }
   ],
   "source": [
    "#simulate\n",
    "kings = np.array([12,25,38,51])\n",
    "cards = np.arange(52)\n",
    "trials = 10000\n",
    "count = 0\n",
    "for i in range(trials):\n",
    "    np.random.shuffle(cards)\n",
    "    if len(np.intersect1d(kings,cards[0:7])) == 3:\n",
    "        count=count+1\n",
    "print(\"%d trials, simulation is %f\" %(trials,count / trials))\n",
    "print(\"calulation is %f\" %p)"
   ]
  },
  {
   "cell_type": "markdown",
   "metadata": {},
   "source": [
    "<font size=5 >**Problem4**</font>"
   ]
  },
  {
   "cell_type": "code",
   "execution_count": 70,
   "metadata": {},
   "outputs": [],
   "source": [
    "#Problem4"
   ]
  },
  {
   "cell_type": "markdown",
   "metadata": {},
   "source": [
    "$\\int^{1}_{0}{\\frac{1}{x+1}dx} = ln2\\approx0.69314718$"
   ]
  },
  {
   "cell_type": "code",
   "execution_count": 77,
   "metadata": {},
   "outputs": [
    {
     "data": {
      "image/png": "[encoded data removed]",
      "text/plain": [
       "<Figure size 432x288 with 1 Axes>"
      ]
     },
     "metadata": {
      "needs_background": "light"
     },
     "output_type": "display_data"
    }
   ],
   "source": [
    "#simulate\n",
    "trials = 1000\n",
    "points=np.random.uniform(0,1,[2,trials])\n",
    "simulation = np.sum( points[1,:] < 1/(1+points[0,:]) )/trials\n",
    "x = np.arange(0,1,0.01)\n",
    "y = 1/(1+x)\n",
    "plt.plot(x,y)\n",
    "plt.scatter(points[0],points[1],marker='o',c='y',s=5)\n",
    "plt.show()\n"
   ]
  },
  {
   "cell_type": "code",
   "execution_count": 83,
   "metadata": {},
   "outputs": [
    {
     "name": "stdout",
     "output_type": "stream",
     "text": [
      "1000 trials, simulation to ln2 is: 0.702000, error is 0.012772\n"
     ]
    }
   ],
   "source": [
    "error = np.abs(simulation/np.log(2) - 1)\n",
    "print(\"%d trials, simulation to ln2 is: %f, error is %f\"%(trials,simulation,error))"
   ]
  },
  {
   "cell_type": "markdown",
   "metadata": {},
   "source": [
    "<font size=5 >**Problem5**</font>"
   ]
  },
  {
   "cell_type": "code",
   "execution_count": 2,
   "metadata": {},
   "outputs": [
    {
     "name": "stdout",
     "output_type": "stream",
     "text": [
      "The result should be:\n",
      "Pa = 0.5\n",
      "Pb = 0.25\n",
      "Pc = 0.5\n",
      "Pd = 0 \n",
      "Pe = 0.5\n"
     ]
    }
   ],
   "source": [
    "#Problem5\n",
    "#calculate\n",
    "import pandas as pd\n",
    "print(\"The result should be:\\nPa = 0.5\\nPb = 0.25\\nPc = 0.5\\nPd = 0 \\nPe = 0.5\")"
   ]
  },
  {
   "cell_type": "code",
   "execution_count": 119,
   "metadata": {},
   "outputs": [
    {
     "name": "stdout",
     "output_type": "stream",
     "text": [
      "1000 trials, simulation to Pa is: 0.498510\n"
     ]
    }
   ],
   "source": [
    "#simulation\n",
    "trials = 1000\n",
    "# HEAD :1 TAIL:0\n",
    "toss_results = pd.DataFrame(np.random.randint(0,2,[n,3]))\n",
    "#a\n",
    "total = toss_results[(toss_results[0] == 1)]\n",
    "Pa = np.sum(total.sum(axis = 1) == 2) / np.size(total,0)\n",
    "print(\"%d trials, simulation to Pa is: %f\"%(trials,Pa))"
   ]
  },
  {
   "cell_type": "code",
   "execution_count": 120,
   "metadata": {},
   "outputs": [
    {
     "name": "stdout",
     "output_type": "stream",
     "text": [
      "1000 trials, simulation to Pa is: 0.250325\n"
     ]
    }
   ],
   "source": [
    "#b\n",
    "total = toss_results[(toss_results[0] == 0)]\n",
    "Pb = np.sum(total.sum(axis = 1) == 2) / np.size(total,0)\n",
    "print(\"%d trials, simulation to Pa is: %f\"%(trials,Pb))"
   ]
  },
  {
   "cell_type": "code",
   "execution_count": 127,
   "metadata": {},
   "outputs": [
    {
     "name": "stdout",
     "output_type": "stream",
     "text": [
      "1000 trials, simulation to Pc is: 0.498135\n"
     ]
    }
   ],
   "source": [
    "#c\n",
    "total = toss_results[toss_results[0] == 1]\n",
    "total = total[total[1] == 1]\n",
    "Pc = np.size(total[total[2] == 0],0)/ np.size(total,0)\n",
    "print(\"%d trials, simulation to Pc is: %f\"%(trials,Pc))"
   ]
  },
  {
   "cell_type": "code",
   "execution_count": 132,
   "metadata": {},
   "outputs": [
    {
     "name": "stdout",
     "output_type": "stream",
     "text": [
      "1000 trials, simulation to Pd is: 0.000000\n"
     ]
    }
   ],
   "source": [
    "#d\n",
    "total = toss_results[toss_results[0] == 0]\n",
    "total = total[total[1] == 0]\n",
    "Pd = np.sum(total.sum(axis = 1) == 2) / np.size(total,0)\n",
    "print(\"%d trials, simulation to Pd is: %f\"%(trials,Pd))"
   ]
  },
  {
   "cell_type": "code",
   "execution_count": 134,
   "metadata": {},
   "outputs": [
    {
     "name": "stdout",
     "output_type": "stream",
     "text": [
      "1000 trials, simulation to Pe is: 0.499660\n"
     ]
    }
   ],
   "source": [
    "#e\n",
    "total = toss_results[toss_results[0] == 1]\n",
    "total = total[total[2] == 1]\n",
    "Pe = np.sum(total.sum(axis = 1) == 2) / np.size(total,0)\n",
    "print(\"%d trials, simulation to Pe is: %f\"%(trials,Pe))"
   ]
  },
  {
   "cell_type": "markdown",
   "metadata": {},
   "source": [
    "<font size=5 >**Problem6**</font>"
   ]
  },
  {
   "cell_type": "code",
   "execution_count": 136,
   "metadata": {},
   "outputs": [],
   "source": [
    "#Problem6"
   ]
  },
  {
   "cell_type": "markdown",
   "metadata": {},
   "source": [
    "$p=\\frac{\\tbinom{4}{1}\\times \\tbinom{2}{1}}{\\tbinom{6}{2}}$"
   ]
  },
  {
   "cell_type": "code",
   "execution_count": 137,
   "metadata": {},
   "outputs": [
    {
     "data": {
      "text/plain": [
       "0.5333333333333333"
      ]
     },
     "execution_count": 137,
     "metadata": {},
     "output_type": "execute_result"
    }
   ],
   "source": [
    "#calculate\n",
    "p = comb(4,1)*comb(2,1)/comb(6,2)\n",
    "p"
   ]
  },
  {
   "cell_type": "code",
   "execution_count": 140,
   "metadata": {},
   "outputs": [
    {
     "name": "stdout",
     "output_type": "stream",
     "text": [
      "1000 trials, simulation to p is: 0.537000\n"
     ]
    }
   ],
   "source": [
    "#simulation\n",
    "trials=1000\n",
    "a=np.array([0,0,1,0,0,1])\n",
    "count=0\n",
    "for i in range(trials):\n",
    "    np.random.shuffle(a)\n",
    "    if a[:2].sum()==1:\n",
    "        count=count+1\n",
    "print(\"%d trials, simulation to p is: %f\" %(trials,count/trials))"
   ]
  },
  {
   "cell_type": "markdown",
   "metadata": {},
   "source": [
    "<font size=5 >**Problem7**</font>"
   ]
  },
  {
   "cell_type": "code",
   "execution_count": 141,
   "metadata": {},
   "outputs": [],
   "source": [
    "#Problem7"
   ]
  },
  {
   "cell_type": "code",
   "execution_count": 4,
   "metadata": {},
   "outputs": [],
   "source": [
    "def log_factorial(n):\n",
    "    a = np.arange(n)+1\n",
    "    return np.sum(np.log(a))\n",
    "def log_stirling(n):\n",
    "    return 0.5*np.log(2*np.pi)+(n+0.5)*np.log(n)-n"
   ]
  },
  {
   "cell_type": "code",
   "execution_count": 19,
   "metadata": {},
   "outputs": [
    {
     "data": {
      "text/html": [
       "<div>\n",
       "<style scoped>\n",
       "    .dataframe tbody tr th:only-of-type {\n",
       "        vertical-align: middle;\n",
       "    }\n",
       "\n",
       "    .dataframe tbody tr th {\n",
       "        vertical-align: top;\n",
       "    }\n",
       "\n",
       "    .dataframe thead th {\n",
       "        text-align: right;\n",
       "    }\n",
       "</style>\n",
       "<table border=\"1\" class=\"dataframe\">\n",
       "  <thead>\n",
       "    <tr style=\"text-align: right;\">\n",
       "      <th></th>\n",
       "      <th>log(N!)</th>\n",
       "      <th>stirling_simulation</th>\n",
       "    </tr>\n",
       "    <tr>\n",
       "      <th>N</th>\n",
       "      <th></th>\n",
       "      <th></th>\n",
       "    </tr>\n",
       "  </thead>\n",
       "  <tbody>\n",
       "    <tr>\n",
       "      <th>1</th>\n",
       "      <td>0.000000</td>\n",
       "      <td>-0.081061</td>\n",
       "    </tr>\n",
       "    <tr>\n",
       "      <th>2</th>\n",
       "      <td>0.693147</td>\n",
       "      <td>0.651806</td>\n",
       "    </tr>\n",
       "    <tr>\n",
       "      <th>3</th>\n",
       "      <td>1.791759</td>\n",
       "      <td>1.764082</td>\n",
       "    </tr>\n",
       "    <tr>\n",
       "      <th>4</th>\n",
       "      <td>3.178054</td>\n",
       "      <td>3.157263</td>\n",
       "    </tr>\n",
       "    <tr>\n",
       "      <th>5</th>\n",
       "      <td>4.787492</td>\n",
       "      <td>4.770847</td>\n",
       "    </tr>\n",
       "    <tr>\n",
       "      <th>...</th>\n",
       "      <td>...</td>\n",
       "      <td>...</td>\n",
       "    </tr>\n",
       "    <tr>\n",
       "      <th>96</th>\n",
       "      <td>345.379407</td>\n",
       "      <td>345.378539</td>\n",
       "    </tr>\n",
       "    <tr>\n",
       "      <th>97</th>\n",
       "      <td>349.954118</td>\n",
       "      <td>349.953259</td>\n",
       "    </tr>\n",
       "    <tr>\n",
       "      <th>98</th>\n",
       "      <td>354.539086</td>\n",
       "      <td>354.538235</td>\n",
       "    </tr>\n",
       "    <tr>\n",
       "      <th>99</th>\n",
       "      <td>359.134205</td>\n",
       "      <td>359.133364</td>\n",
       "    </tr>\n",
       "    <tr>\n",
       "      <th>100</th>\n",
       "      <td>363.739376</td>\n",
       "      <td>363.738542</td>\n",
       "    </tr>\n",
       "  </tbody>\n",
       "</table>\n",
       "<p>100 rows × 2 columns</p>\n",
       "</div>"
      ],
      "text/plain": [
       "        log(N!)  stirling_simulation\n",
       "N                                   \n",
       "1      0.000000            -0.081061\n",
       "2      0.693147             0.651806\n",
       "3      1.791759             1.764082\n",
       "4      3.178054             3.157263\n",
       "5      4.787492             4.770847\n",
       "..          ...                  ...\n",
       "96   345.379407           345.378539\n",
       "97   349.954118           349.953259\n",
       "98   354.539086           354.538235\n",
       "99   359.134205           359.133364\n",
       "100  363.739376           363.738542\n",
       "\n",
       "[100 rows x 2 columns]"
      ]
     },
     "execution_count": 19,
     "metadata": {},
     "output_type": "execute_result"
    }
   ],
   "source": [
    "n = np.arange(100)+1\n",
    "log_f = np.array([])\n",
    "log_s = np.array([])\n",
    "for i in n:\n",
    "    log_f = np.append(log_f, log_factorial(i))\n",
    "    log_s = np.append(log_s, log_stirling(i))\n",
    "data = {\n",
    "    'N':n,\n",
    "    'log(N!)':log_f,\n",
    "    'stirling_simulation':log_s\n",
    "} \n",
    "value = pd.DataFrame(data)\n",
    "value.set_index(['N'],inplace = True)\n",
    "value"
   ]
  },
  {
   "cell_type": "code",
   "execution_count": 30,
   "metadata": {},
   "outputs": [
    {
     "data": {
      "image/png": "[encoded data removed]",
      "text/plain": [
       "<Figure size 432x288 with 1 Axes>"
      ]
     },
     "metadata": {
      "needs_background": "light"
     },
     "output_type": "display_data"
    }
   ],
   "source": [
    "plt.plot(n,log_f,c='b')\n",
    "plt.plot(n,log_s,c='r')\n",
    "plt.grid()\n",
    "plt.show()"
   ]
  },
  {
   "cell_type": "code",
   "execution_count": 31,
   "metadata": {},
   "outputs": [
    {
     "name": "stdout",
     "output_type": "stream",
     "text": [
      "The exact value of log(200!) is 863.231987, simulation is 863.231571\n"
     ]
    }
   ],
   "source": [
    "print(\"The exact value of log(200!) is %f, simulation is %f\" %(log_factorial(200),log_stirling(200)))"
   ]
  },
  {
   "cell_type": "markdown",
   "metadata": {},
   "source": [
    "<font size=5 >**Problem8**</font>"
   ]
  },
  {
   "cell_type": "code",
   "execution_count": 32,
   "metadata": {},
   "outputs": [],
   "source": [
    "#Problem8"
   ]
  },
  {
   "cell_type": "code",
   "execution_count": 49,
   "metadata": {},
   "outputs": [
    {
     "name": "stdout",
     "output_type": "stream",
     "text": [
      "k= 95, bino = 0.163918, hyper = 0.184761\n",
      "k= 96, bino = 0.133752, hyper = 0.142656\n",
      "k= 97, bino = 0.086410, hyper = 0.085604\n",
      "k= 98, bino = 0.041442, hyper = 0.037442\n",
      "k= 99, bino = 0.013116, hyper = 0.010615\n",
      "k= 100, bino = 0.002055, hyper = 0.001463\n"
     ]
    }
   ],
   "source": [
    "N = 1000\n",
    "M = 100\n",
    "p = 0.94\n",
    "hyper = np.array([])\n",
    "bino  = np.array([])\n",
    "x = np.array([])\n",
    "def C(n,r):\n",
    "    return np.exp(log_factorial(n)-log_factorial(r)-log_factorial(n-r))\n",
    "\n",
    "for k in range(95,101):\n",
    "    hyper = np.append(hyper,C(p*N,k)*C((1-p)*N,M-k)/C(N,M))\n",
    "    bino = np.append(bino,comb(M,k)*np.power(p,k)*np.power(1-p,M-k))\n",
    "    print(\"k= %d, bino = %f, hyper = %f\" %(k,bino[-1],hyper[-1]))"
   ]
  },
  {
   "cell_type": "code",
   "execution_count": 54,
   "metadata": {},
   "outputs": [
    {
     "data": {
      "image/png": "[encoded data removed]",
      "text/plain": [
       "<Figure size 432x288 with 1 Axes>"
      ]
     },
     "metadata": {
      "needs_background": "light"
     },
     "output_type": "display_data"
    }
   ],
   "source": [
    "x = np.arange(95,101,1)\n",
    "plt.plot(x,bino,c='b',label = 'binomial')\n",
    "plt.plot(x,hyper,c='r',label = 'hypergeometric')\n",
    "plt.legend()\n",
    "plt.grid()\n",
    "plt.show()"
   ]
  },
  {
   "cell_type": "markdown",
   "metadata": {},
   "source": [
    "<font size=5 >**Problem9**</font>"
   ]
  },
  {
   "cell_type": "code",
   "execution_count": 55,
   "metadata": {},
   "outputs": [],
   "source": [
    "#Problem9"
   ]
  },
  {
   "cell_type": "markdown",
   "metadata": {},
   "source": [
    "$P=(0.75)^3=0.421875$"
   ]
  },
  {
   "cell_type": "code",
   "execution_count": 88,
   "metadata": {},
   "outputs": [
    {
     "name": "stdout",
     "output_type": "stream",
     "text": [
      "10000 trials , the simulation is 0.421300\n"
     ]
    }
   ],
   "source": [
    "trials = 10000\n",
    "count = 0\n",
    "for i in range(trials):\n",
    "    if np.random.randint(0,4) == 0:\n",
    "        continue\n",
    "    elif np.random.randint(0,4) == 0:\n",
    "        continue\n",
    "    elif np.random.randint(0,4) == 0:\n",
    "        continue\n",
    "    else:\n",
    "        count+=1\n",
    "print(\"%d trials , the simulation is %f\"%(trials,count/trials))"
   ]
  },
  {
   "cell_type": "markdown",
   "metadata": {},
   "source": [
    "<font size=5 >**Problem10**</font>"
   ]
  },
  {
   "cell_type": "code",
   "execution_count": 89,
   "metadata": {},
   "outputs": [],
   "source": [
    "#Problem10"
   ]
  },
  {
   "cell_type": "code",
   "execution_count": 92,
   "metadata": {},
   "outputs": [
    {
     "data": {
      "text/html": [
       "<div>\n",
       "<style scoped>\n",
       "    .dataframe tbody tr th:only-of-type {\n",
       "        vertical-align: middle;\n",
       "    }\n",
       "\n",
       "    .dataframe tbody tr th {\n",
       "        vertical-align: top;\n",
       "    }\n",
       "\n",
       "    .dataframe thead th {\n",
       "        text-align: right;\n",
       "    }\n",
       "</style>\n",
       "<table border=\"1\" class=\"dataframe\">\n",
       "  <thead>\n",
       "    <tr style=\"text-align: right;\">\n",
       "      <th></th>\n",
       "      <th>binomial</th>\n",
       "      <th>poisson</th>\n",
       "    </tr>\n",
       "    <tr>\n",
       "      <th>k</th>\n",
       "      <th></th>\n",
       "      <th></th>\n",
       "    </tr>\n",
       "  </thead>\n",
       "  <tbody>\n",
       "    <tr>\n",
       "      <th>0</th>\n",
       "      <td>3.660323e-01</td>\n",
       "      <td>3.678794e-01</td>\n",
       "    </tr>\n",
       "    <tr>\n",
       "      <th>1</th>\n",
       "      <td>3.697296e-01</td>\n",
       "      <td>3.678794e-01</td>\n",
       "    </tr>\n",
       "    <tr>\n",
       "      <th>2</th>\n",
       "      <td>1.848648e-01</td>\n",
       "      <td>1.839397e-01</td>\n",
       "    </tr>\n",
       "    <tr>\n",
       "      <th>3</th>\n",
       "      <td>6.099917e-02</td>\n",
       "      <td>6.131324e-02</td>\n",
       "    </tr>\n",
       "    <tr>\n",
       "      <th>4</th>\n",
       "      <td>1.494171e-02</td>\n",
       "      <td>1.532831e-02</td>\n",
       "    </tr>\n",
       "    <tr>\n",
       "      <th>...</th>\n",
       "      <td>...</td>\n",
       "      <td>...</td>\n",
       "    </tr>\n",
       "    <tr>\n",
       "      <th>96</th>\n",
       "      <td>3.766713e-186</td>\n",
       "      <td>3.709666e-151</td>\n",
       "    </tr>\n",
       "    <tr>\n",
       "      <th>97</th>\n",
       "      <td>1.568973e-189</td>\n",
       "      <td>3.824398e-153</td>\n",
       "    </tr>\n",
       "    <tr>\n",
       "      <th>98</th>\n",
       "      <td>4.851495e-193</td>\n",
       "      <td>3.902447e-155</td>\n",
       "    </tr>\n",
       "    <tr>\n",
       "      <th>99</th>\n",
       "      <td>9.900000e-197</td>\n",
       "      <td>3.941866e-157</td>\n",
       "    </tr>\n",
       "    <tr>\n",
       "      <th>100</th>\n",
       "      <td>1.000000e-200</td>\n",
       "      <td>3.941866e-159</td>\n",
       "    </tr>\n",
       "  </tbody>\n",
       "</table>\n",
       "<p>101 rows × 2 columns</p>\n",
       "</div>"
      ],
      "text/plain": [
       "          binomial        poisson\n",
       "k                                \n",
       "0     3.660323e-01   3.678794e-01\n",
       "1     3.697296e-01   3.678794e-01\n",
       "2     1.848648e-01   1.839397e-01\n",
       "3     6.099917e-02   6.131324e-02\n",
       "4     1.494171e-02   1.532831e-02\n",
       "..             ...            ...\n",
       "96   3.766713e-186  3.709666e-151\n",
       "97   1.568973e-189  3.824398e-153\n",
       "98   4.851495e-193  3.902447e-155\n",
       "99   9.900000e-197  3.941866e-157\n",
       "100  1.000000e-200  3.941866e-159\n",
       "\n",
       "[101 rows x 2 columns]"
      ]
     },
     "execution_count": 92,
     "metadata": {},
     "output_type": "execute_result"
    }
   ],
   "source": [
    "def poisson(k):\n",
    "    return np.exp(-1)/np.exp(log_factorial(k))\n",
    "n = 100\n",
    "p = 0.01\n",
    "pois = np.array([])\n",
    "bino  = np.array([])\n",
    "x = np.array([])\n",
    "\n",
    "for k in range(0,101):\n",
    "    pois = np.append(pois,poisson(k))\n",
    "    bino = np.append(bino,comb(n,k)*np.power(p,k)*np.power(1-p,n-k))\n",
    "#     print(\"k= %d, binomial = %f, poisson = %f\" %(k,bino[-1],pois[-1]))\n",
    "data = {\n",
    "    'k':np.arange(0,101),\n",
    "    'binomial':bino,\n",
    "    'poisson':pois\n",
    "} \n",
    "value = pd.DataFrame(data)\n",
    "value.set_index(['k'],inplace = True)\n",
    "value"
   ]
  },
  {
   "cell_type": "code",
   "execution_count": 98,
   "metadata": {},
   "outputs": [
    {
     "data": {
      "image/png": "[encoded data removed]",
      "text/plain": [
       "<Figure size 432x288 with 1 Axes>"
      ]
     },
     "metadata": {
      "needs_background": "light"
     },
     "output_type": "display_data"
    }
   ],
   "source": [
    "x = np.arange(0,10,1)\n",
    "plt.scatter(x,bino[0:10],c='b',label = 'binomial', s=10)\n",
    "plt.scatter(x,pois[0:10],c='r',label = 'poisson', s=10)\n",
    "plt.legend()\n",
    "plt.grid()\n",
    "plt.show()"
   ]
  },
  {
   "cell_type": "code",
   "execution_count": 99,
   "metadata": {},
   "outputs": [
    {
     "data": {
      "image/png": "[encoded data removed]",
      "text/plain": [
       "<Figure size 432x288 with 1 Axes>"
      ]
     },
     "metadata": {
      "needs_background": "light"
     },
     "output_type": "display_data"
    }
   ],
   "source": [
    "x = np.arange(0,101,1)\n",
    "plt.scatter(x,bino,c='b',label = 'binomial', s=10)\n",
    "plt.scatter(x,pois,c='r',label = 'poisson', s=10)\n",
    "plt.legend()\n",
    "plt.grid()\n",
    "plt.show()"
   ]
  },
  {
   "cell_type": "code",
   "execution_count": 105,
   "metadata": {},
   "outputs": [
    {
     "data": {
      "text/plain": [
       "array([1, 0, 0, 2, 0, 2, 1, 1, 0, 0, 1, 2, 0, 0, 1, 1, 0, 1, 1, 0, 2, 1,\n",
       "       2, 2, 0, 0, 0, 1, 0, 0, 1, 1, 0, 1, 2, 1, 0, 1, 0, 1, 0, 1, 0, 0,\n",
       "       1, 0, 2, 0, 1, 2, 2, 0, 0, 0, 2, 3, 1, 0, 0, 4, 1, 0, 1, 2, 2, 1,\n",
       "       1, 0, 1, 3, 1, 1, 0, 2, 0, 0, 2, 1, 1, 0, 4, 0, 0, 4, 1, 1, 1, 1,\n",
       "       0, 1, 2, 1, 3, 1, 1, 0, 2, 1, 0, 0])"
      ]
     },
     "execution_count": 105,
     "metadata": {},
     "output_type": "execute_result"
    }
   ],
   "source": [
    "#(c)\n",
    "realization = np.random.binomial(100,0.01,100)\n",
    "realization"
   ]
  },
  {
   "cell_type": "markdown",
   "metadata": {},
   "source": [
    "<font size=5 >**Problem11**</font>"
   ]
  },
  {
   "cell_type": "code",
   "execution_count": null,
   "metadata": {},
   "outputs": [],
   "source": [
    "#Problem11"
   ]
  },
  {
   "cell_type": "markdown",
   "metadata": {},
   "source": [
    "$ P(X>\\mu+a\\sigma) = P(\\frac{X-\\mu}{\\sigma}>a) = 1-P(\\frac{X-\\mu}{\\sigma}<a)= 1-\\Phi(a)  $"
   ]
  },
  {
   "cell_type": "markdown",
   "metadata": {},
   "source": [
    "$1-\\Phi(1)= 0.158655$</br>\n",
    "$1-\\Phi(2)= 0.022750$</br>\n",
    "$1-\\Phi(3)= 0.001350$"
   ]
  },
  {
   "cell_type": "code",
   "execution_count": 115,
   "metadata": {},
   "outputs": [],
   "source": [
    "from scipy.stats import norm"
   ]
  },
  {
   "cell_type": "code",
   "execution_count": 119,
   "metadata": {},
   "outputs": [
    {
     "name": "stdout",
     "output_type": "stream",
     "text": [
      "when a= 1  simulation= 0.164800, caculation = 0.158655\n",
      "when a= 2  simulation= 0.021600, caculation = 0.022750\n",
      "when a= 3  simulation= 0.001200, caculation = 0.001350\n"
     ]
    }
   ],
   "source": [
    "mu = 0\n",
    "sigma = 1\n",
    "trials = 5000\n",
    "sample=np.random.normal(mu,sigma,size=trials)\n",
    "for i in range(1,4):\n",
    "    print(\"when a= %d  simulation= %f, caculation = %f\" %(i,sum(sample>mu+i*sigma)/trials,1-norm.cdf(i)))"
   ]
  },
  {
   "cell_type": "markdown",
   "metadata": {},
   "source": [
    "<font size=5 >**Problem12**</font>"
   ]
  },
  {
   "cell_type": "code",
   "execution_count": 120,
   "metadata": {},
   "outputs": [],
   "source": [
    "#Problem12"
   ]
  },
  {
   "cell_type": "code",
   "execution_count": 129,
   "metadata": {},
   "outputs": [
    {
     "name": "stdout",
     "output_type": "stream",
     "text": [
      "p = 0.250000, 1000 trials, simulation expectation = 4.028000, simulation variance = 11.637216\n"
     ]
    }
   ],
   "source": [
    "#Geometric\n",
    "X = np.array([])\n",
    "p=0.25\n",
    "trials = 1000\n",
    "for i in range(trials):\n",
    "    x = 0\n",
    "    while True:\n",
    "        x += 1\n",
    "        if np.random.uniform(0,1) <= p:\n",
    "            break\n",
    "    X = np.append(X,x)\n",
    "print(\"p = %f, %d trials, simulation expectation = %f, simulation variance = %f\" %(p,trials,np.mean(X),np.var(X)))"
   ]
  },
  {
   "cell_type": "markdown",
   "metadata": {},
   "source": [
    "the expectation should be $\\frac{1}{p}=4$</br>\n",
    "the variance should be $\\frac{1-p}{p^2}=12$</br>"
   ]
  },
  {
   "cell_type": "code",
   "execution_count": 132,
   "metadata": {},
   "outputs": [
    {
     "name": "stdout",
     "output_type": "stream",
     "text": [
      "Lambda = 0.250000, 1000 trials, simulation expectation = 0.193022, simulation variance = 0.041264\n"
     ]
    }
   ],
   "source": [
    "U = np.random.uniform(0,1,trials)\n",
    "Lambda = 5\n",
    "X = -1 / Lambda * np.log(U)\n",
    "print(\"Lambda = %f, %d trials, simulation expectation = %f, simulation variance = %f\" %(p,trials,np.mean(X),np.var(X)))"
   ]
  },
  {
   "cell_type": "markdown",
   "metadata": {},
   "source": [
    "the expectation should be $\\frac{1}{\\lambda}=0.2$</br>\n",
    "the variance should be $\\frac{1}{\\lambda^2}=0.04$</br>"
   ]
  }
 ],
 "metadata": {
  "kernelspec": {
   "display_name": "Python 3 (ipykernel)",
   "language": "python",
   "name": "python3"
  },
  "language_info": {
   "codemirror_mode": {
    "name": "ipython",
    "version": 3
   },
   "file_extension": ".py",
   "mimetype": "text/x-python",
   "name": "python",
   "nbconvert_exporter": "python",
   "pygments_lexer": "ipython3",
   "version": "3.8.5"
  }
 },
 "nbformat": 4,
 "nbformat_minor": 4
}
